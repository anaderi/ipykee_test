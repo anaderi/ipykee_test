{
 "metadata": {
  "name": "/tmp/ipykee/tmpAmchFY/tutorial_remote/ipykee-storage/11-howto-ipykee-remote/history"
 },
 "nbformat": 3,
 "nbformat_minor": 0,
 "worksheets": [
  {
   "cells": [
    {
     "cell_type": "code",
     "collapsed": false,
     "input": [
      "variable = 136123\n",
      "string_variable = \"foo bar\"\n",
      "dict_variable = {\"foo\": 123, \"bar\": 146}"
     ],
     "language": "python",
     "metadata": {},
     "outputs": [],
     "prompt_number": 1
    },
    {
     "cell_type": "code",
     "collapsed": false,
     "input": [
      "import ipykee\n",
      "ipykee.create_project(\"tutorial_remote\", internal_path=\"ipykee-storage\", repository=\"git@github.com:anaderi/ipykee_test.git\")\n",
      "session = ipykee.Session(project_name=\"tutorial_remote\")"
     ],
     "language": "python",
     "metadata": {},
     "outputs": [],
     "prompt_number": 2
    },
    {
     "cell_type": "code",
     "collapsed": false,
     "input": [
      "session.add(value=variable, key=\"variable\")\n",
      "session.add(value=string_variable, key=\"string\")\n",
      "session.add(value=dict_variable, key=\"dict\")\n",
      "session.show_added()"
     ],
     "language": "python",
     "metadata": {},
     "outputs": [],
     "prompt_number": 3
    }
   ],
   "metadata": {}
  }
 ]
}